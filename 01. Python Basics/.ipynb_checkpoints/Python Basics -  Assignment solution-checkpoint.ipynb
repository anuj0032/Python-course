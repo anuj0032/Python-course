{
 "cells": [
  {
   "cell_type": "markdown",
   "metadata": {},
   "source": [
    "# Python Basic Assignment solution"
   ]
  },
  {
   "cell_type": "markdown",
   "metadata": {},
   "source": [
    "### Workshop 19.03.2019"
   ]
  },
  {
   "cell_type": "markdown",
   "metadata": {},
   "source": [
    "Go through the exercises and solve the tasks."
   ]
  },
  {
   "cell_type": "markdown",
   "metadata": {},
   "source": [
    "#### Example exercise"
   ]
  },
  {
   "cell_type": "markdown",
   "metadata": {},
   "source": [
    "What is 43+67?"
   ]
  },
  {
   "cell_type": "code",
   "execution_count": 1,
   "metadata": {},
   "outputs": [
    {
     "data": {
      "text/plain": [
       "110"
      ]
     },
     "execution_count": 1,
     "metadata": {},
     "output_type": "execute_result"
    }
   ],
   "source": [
    "43+67\n",
    "\n",
    "\n",
    "\n",
    "\n",
    "\n"
   ]
  },
  {
   "cell_type": "markdown",
   "metadata": {},
   "source": [
    "Solution: 110"
   ]
  },
  {
   "cell_type": "markdown",
   "metadata": {},
   "source": [
    "___"
   ]
  },
  {
   "cell_type": "markdown",
   "metadata": {},
   "source": [
    "<h3 align=\"center\">Exercise 1</h3> "
   ]
  },
  {
   "cell_type": "markdown",
   "metadata": {},
   "source": [
    "What is 8 to the power of 3? "
   ]
  },
  {
   "cell_type": "code",
   "execution_count": 2,
   "metadata": {},
   "outputs": [
    {
     "data": {
      "text/plain": [
       "512"
      ]
     },
     "execution_count": 2,
     "metadata": {},
     "output_type": "execute_result"
    }
   ],
   "source": [
    "# Write code here..\n",
    "\n",
    "\n",
    "8**3\n",
    "\n",
    "\n"
   ]
  },
  {
   "cell_type": "markdown",
   "metadata": {},
   "source": [
    "Solution: 512"
   ]
  },
  {
   "cell_type": "code",
   "execution_count": null,
   "metadata": {},
   "outputs": [],
   "source": []
  },
  {
   "cell_type": "markdown",
   "metadata": {},
   "source": [
    "___"
   ]
  },
  {
   "cell_type": "markdown",
   "metadata": {},
   "source": [
    "<h3 align=\"center\">Exercise 2</h3> "
   ]
  },
  {
   "cell_type": "markdown",
   "metadata": {},
   "source": [
    "Create a function that prints the input"
   ]
  },
  {
   "cell_type": "code",
   "execution_count": 3,
   "metadata": {},
   "outputs": [],
   "source": [
    "# Write code here..\n",
    "\n",
    "def my_print_function(my_input):\n",
    "    \n",
    "    print(my_input)\n",
    "    \n",
    "    \n",
    "    "
   ]
  },
  {
   "cell_type": "markdown",
   "metadata": {},
   "source": [
    "Solution: Run this code and se if the function works"
   ]
  },
  {
   "cell_type": "code",
   "execution_count": 4,
   "metadata": {},
   "outputs": [
    {
     "name": "stdout",
     "output_type": "stream",
     "text": [
      "Yes! \n",
      "This works!\n"
     ]
    }
   ],
   "source": [
    "my_print_function(\"Yes! \\nThis works!\")"
   ]
  },
  {
   "cell_type": "markdown",
   "metadata": {},
   "source": [
    "___"
   ]
  },
  {
   "cell_type": "markdown",
   "metadata": {},
   "source": [
    "<h3 align=\"center\">Exercise 3</h3> "
   ]
  },
  {
   "cell_type": "markdown",
   "metadata": {},
   "source": [
    "Split the string:  \n",
    "\n",
    "**s = \" this is a string\"  **\n",
    "\n",
    "into a list"
   ]
  },
  {
   "cell_type": "code",
   "execution_count": 5,
   "metadata": {},
   "outputs": [
    {
     "data": {
      "text/plain": [
       "['this', 'is', 'a', 'string']"
      ]
     },
     "execution_count": 5,
     "metadata": {},
     "output_type": "execute_result"
    }
   ],
   "source": [
    "# Write code here..\n",
    "\n",
    "s= \"this is a string\".split()\n",
    "\n",
    "s"
   ]
  },
  {
   "cell_type": "markdown",
   "metadata": {},
   "source": [
    "Solution:\n",
    "\n",
    "[ 'this', 'is', 'a', 'string']"
   ]
  },
  {
   "cell_type": "markdown",
   "metadata": {},
   "source": [
    "___"
   ]
  },
  {
   "cell_type": "markdown",
   "metadata": {},
   "source": [
    "<h3 align=\"center\">Exercise 4</h3> "
   ]
  },
  {
   "cell_type": "markdown",
   "metadata": {},
   "source": [
    "#### Excerise 4"
   ]
  },
  {
   "cell_type": "markdown",
   "metadata": {},
   "source": [
    "Write a function that inputs height and weight and returns BMI.\n",
    "\n",
    "**Formel: **\n",
    "\\begin{align}\n",
    "BMI & = \\frac{weight[kg]}{height[m]^2} \n",
    "\\end{align}"
   ]
  },
  {
   "cell_type": "code",
   "execution_count": 6,
   "metadata": {},
   "outputs": [],
   "source": [
    "# Write code here..\n",
    "\n",
    "def bmi(height,weight):\n",
    "    \n",
    "    return weight/height**2\n",
    "\n",
    "\n"
   ]
  },
  {
   "cell_type": "markdown",
   "metadata": {},
   "source": [
    "Solution: test with 1,85 m and 75 kg --> Should be a BMI of  aprox **21.9**"
   ]
  },
  {
   "cell_type": "code",
   "execution_count": 7,
   "metadata": {},
   "outputs": [
    {
     "data": {
      "text/plain": [
       "21.913805697589478"
      ]
     },
     "execution_count": 7,
     "metadata": {},
     "output_type": "execute_result"
    }
   ],
   "source": [
    "'''Test your code here...'''\n",
    "\n",
    "bmi(1.85,75)\n"
   ]
  },
  {
   "cell_type": "markdown",
   "metadata": {},
   "source": [
    "___"
   ]
  },
  {
   "cell_type": "markdown",
   "metadata": {},
   "source": [
    "<h3 align=\"center\">Exercise 5</h3> "
   ]
  },
  {
   "cell_type": "markdown",
   "metadata": {},
   "source": [
    "#### Excerise 5 - Learn about list indexing"
   ]
  },
  {
   "cell_type": "markdown",
   "metadata": {},
   "source": [
    "Pick out your birthday number from the list of days and months and print it."
   ]
  },
  {
   "cell_type": "code",
   "execution_count": 8,
   "metadata": {},
   "outputs": [],
   "source": [
    "# Run this code first\n",
    "\n",
    "'''Part 1'''\n",
    "date_list = [1,2,3,4,5,6,7,8,9,10,11,12,13,14,15,16,17,18,19,20,21,22,23,24,25,26,27,28,29,30,31]\n",
    "month_list = ['jan', 'feb', 'mar', 'apr', 'mai', 'jun', 'jul', 'aug', 'sep', 'okt', 'nov', 'des']\n",
    "\n",
    "\n",
    "'''Part 2'''\n",
    "date_list_hard = [[1,2,3,4,5,6,7,8,9,],[10,11,12,13,14,15,16,17,18,19,20,21,22,23,24,25,26],[27,28,29,30,31]]\n",
    "month_list_hard = [[['jan', 'feb'] ,'mar', 'apr'],['mai', 'jun'],['jul', 'aug', 'sep', 'okt', 'nov', 'des']]\n",
    "\n"
   ]
  },
  {
   "cell_type": "code",
   "execution_count": 9,
   "metadata": {},
   "outputs": [
    {
     "name": "stdout",
     "output_type": "stream",
     "text": [
      "My birthday is 16.feb\n",
      "My birthday is 16.feb\n"
     ]
    }
   ],
   "source": [
    "# Write your code here..\n",
    "\n",
    "''' My birthday is 16.feb'''\n",
    "\n",
    "date = date_list[15]\n",
    "month = month_list[1]\n",
    "print(\"My birthday is {}.{}\".format(date, month))\n",
    "\n",
    "\n",
    "date_hard = date_list_hard[1][6]\n",
    "month_hard = month_list_hard[0][0][1]\n",
    "print(\"My birthday is {}.{}\".format(date_hard, month_hard))"
   ]
  },
  {
   "cell_type": "markdown",
   "metadata": {},
   "source": [
    "Solution example: \"My birthday is 16.feb\""
   ]
  },
  {
   "cell_type": "markdown",
   "metadata": {},
   "source": [
    "___"
   ]
  },
  {
   "cell_type": "markdown",
   "metadata": {},
   "source": [
    "<h3 align=\"center\">Exercise 6</h3> "
   ]
  },
  {
   "cell_type": "markdown",
   "metadata": {},
   "source": [
    "#### Excerise 6 - Learn about the map function"
   ]
  },
  {
   "cell_type": "markdown",
   "metadata": {},
   "source": [
    "Convert a list of heights and weight to a list of BMI-values. \n",
    "\n",
    "TIPS:\n",
    "\n",
    "\"map(function_to_apply, list_of_inputs)\" applies a function to all the items in an input list. "
   ]
  },
  {
   "cell_type": "code",
   "execution_count": 10,
   "metadata": {},
   "outputs": [],
   "source": [
    "# Write code here..\n",
    "\n",
    "'''(weight, height) touples'''\n",
    "my_list_of_personal_information = [(75,1.86),(121,1.98),(53,1.46),(84,1.79)]\n",
    "\n"
   ]
  },
  {
   "cell_type": "code",
   "execution_count": 11,
   "metadata": {},
   "outputs": [
    {
     "name": "stdout",
     "output_type": "stream",
     "text": [
      "[21.678806798473808, 30.8641975308642, 24.86395196096829, 26.216410224399986]\n",
      "[21.678806798473808, 30.8641975308642, 24.86395196096829, 26.216410224399986]\n"
     ]
    }
   ],
   "source": [
    "'''Alternative 1'''\n",
    "# input = touple --> (vekt,  høyde)\n",
    "def bmi_adapted(touple):\n",
    "    \n",
    "    return touple[0]/touple[1]**2\n",
    "\n",
    "\n",
    "answer = list(map(bmi_adapted,my_list_of_personal_information))\n",
    "print(answer)\n",
    "\n",
    "'''Alternative 2'''\n",
    "#Create empty list\n",
    "list_of_bmi = []\n",
    "\n",
    "for each_touple in my_list_of_personal_information:\n",
    "    \n",
    "    current_bmi = bmi(each_touple[1], each_touple[0])\n",
    "    \n",
    "    list_of_bmi.append(current_bmi)\n",
    "    \n",
    "print(list_of_bmi)"
   ]
  },
  {
   "cell_type": "markdown",
   "metadata": {},
   "source": [
    "Solution:\n",
    "\n",
    "[21.678806798473808, 30.8641975308642, 24.86395196096829, 26.216410224399986]"
   ]
  },
  {
   "cell_type": "markdown",
   "metadata": {},
   "source": [
    "___"
   ]
  },
  {
   "cell_type": "markdown",
   "metadata": {},
   "source": [
    "<h3 align=\"center\">Exercise 7</h3> "
   ]
  },
  {
   "cell_type": "markdown",
   "metadata": {},
   "source": [
    "#### Excerise 7"
   ]
  },
  {
   "cell_type": "markdown",
   "metadata": {},
   "source": [
    "Make two seperatee list from the email list. \n",
    "\n",
    "One with all the names and one with all the companies."
   ]
  },
  {
   "cell_type": "code",
   "execution_count": 12,
   "metadata": {},
   "outputs": [],
   "source": [
    "# Write code here..\n",
    "\n",
    "email_list = ['ola@facebook.com','tine@google.com','josef@amazon.com', 'tom@xxl.com']\n",
    "\n",
    "def get_names(input_string):\n",
    "    \n",
    "    name = input_string.split('@')[0]\n",
    "    \n",
    "    return name\n",
    "\n",
    "def get_company(input_string):\n",
    "    \n",
    "    company_mail = input_string.split('@')[1]\n",
    "    \n",
    "    company = company_mail.split('.')[0]\n",
    "    \n",
    "    return company\n",
    "\n",
    "names = list (   map(get_names,email_list)    )\n",
    "companies = list(   map(get_company,email_list)  )\n"
   ]
  },
  {
   "cell_type": "markdown",
   "metadata": {},
   "source": [
    "Solution"
   ]
  },
  {
   "cell_type": "code",
   "execution_count": 13,
   "metadata": {},
   "outputs": [
    {
     "name": "stdout",
     "output_type": "stream",
     "text": [
      "['ola', 'tine', 'josef', 'tom']\n",
      "['facebook', 'google', 'amazon', 'xxl']\n"
     ]
    }
   ],
   "source": [
    "''' Test your code here'''\n",
    "\n",
    "print(names)\n",
    "print(companies)"
   ]
  },
  {
   "cell_type": "markdown",
   "metadata": {},
   "source": [
    "# Well done!"
   ]
  }
 ],
 "metadata": {
  "kernelspec": {
   "display_name": "Python 3",
   "language": "python",
   "name": "python3"
  },
  "language_info": {
   "codemirror_mode": {
    "name": "ipython",
    "version": 3
   },
   "file_extension": ".py",
   "mimetype": "text/x-python",
   "name": "python",
   "nbconvert_exporter": "python",
   "pygments_lexer": "ipython3",
   "version": "3.6.5"
  }
 },
 "nbformat": 4,
 "nbformat_minor": 2
}
